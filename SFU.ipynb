{
 "cells": [
  {
   "cell_type": "markdown",
   "metadata": {},
   "source": [
    "![SFU Roster Analysis](SFU.png \"Title\")"
   ]
  },
  {
   "cell_type": "markdown",
   "metadata": {},
   "source": [
    "# Six Feet Under: Roster Analysis"
   ]
  },
  {
   "cell_type": "code",
   "execution_count": 12,
   "metadata": {},
   "outputs": [],
   "source": [
    "import pandas as pd\n",
    "from pandas.plotting import scatter_matrix\n",
    "from matplotlib import pyplot as plt\n",
    "%matplotlib inline\n",
    "from pandas import DataFrame\n",
    "import seaborn as sns"
   ]
  },
  {
   "cell_type": "code",
   "execution_count": 5,
   "metadata": {},
   "outputs": [],
   "source": [
    "omni=pd.read_csv('SFU_OMNI.csv', index_col=\"Statistics\")\n",
    "ddan=pd.read_csv('DemonDanTV.csv', index_col=\"Statistics\")\n",
    "fri=pd.read_csv('frid8y.csv', index_col=\"Statistics\")\n",
    "waz=pd.read_csv('wazzupi.csv', index_col=\"Statistics\")\n",
    "krypt=pd.read_csv('KryptonicKiller.csv', index_col=\"Statistics\")"
   ]
  },
  {
   "cell_type": "code",
   "execution_count": 6,
   "metadata": {},
   "outputs": [],
   "source": [
    "omni.drop(['Solo','Duo'], axis=1, inplace = True)\n",
    "omni.drop([\"Rank Points\", \"Daily Wins\", \"Weekly Wins\" ,\"Rank Points Title\"], axis=0, inplace=True)\n",
    "omni.rename(columns = {\"Squad\": \"Omni\"}, inplace = True)\n",
    "#\n",
    "ddan.drop(['Solo','Duo'], axis=1, inplace = True) \n",
    "ddan.drop([\"Rank Points\", \"Daily Wins\", \"Weekly Wins\" ,\"Rank Points Title\"], axis=0, inplace=True)\n",
    "ddan.rename(columns = {\"Squad\": \"DemonDan\"}, inplace = True) \n",
    "#\n",
    "fri.drop(['Solo','Duo'], axis=1, inplace = True) \n",
    "fri.drop([\"Rank Points\", \"Daily Wins\", \"Weekly Wins\" ,\"Rank Points Title\"], axis=0, inplace=True)\n",
    "fri.rename(columns = {\"Squad\": \"frid8y\"}, inplace = True) \n",
    "#\n",
    "waz.drop(['Solo','Duo'], axis=1, inplace = True) \n",
    "waz.drop([\"Rank Points\", \"Daily Wins\", \"Weekly Wins\" ,\"Rank Points Title\"], axis=0, inplace=True)\n",
    "waz.rename(columns = {\"Squad\": \"wazzupi\"}, inplace = True)\n",
    "#\n",
    "krypt.drop(['Solo','Duo'], axis=1, inplace = True) \n",
    "krypt.drop([\"Rank Points\", \"Daily Wins\", \"Weekly Wins\" ,\"Rank Points Title\"], axis=0, inplace=True)\n",
    "krypt.rename(columns = {\"Squad\": \"KryptonicKiller\"}, inplace = True) "
   ]
  },
  {
   "cell_type": "code",
   "execution_count": 8,
   "metadata": {},
   "outputs": [],
   "source": [
    "sfu_red = pd.concat([omni, ddan, fri, waz, krypt], axis=1, sort=True)"
   ]
  },
  {
   "cell_type": "code",
   "execution_count": 9,
   "metadata": {},
   "outputs": [],
   "source": [
    "sfu_red = sfu_red.T"
   ]
  },
  {
   "cell_type": "code",
   "execution_count": 10,
   "metadata": {},
   "outputs": [
    {
     "data": {
      "text/html": [
       "<div>\n",
       "<style scoped>\n",
       "    .dataframe tbody tr th:only-of-type {\n",
       "        vertical-align: middle;\n",
       "    }\n",
       "\n",
       "    .dataframe tbody tr th {\n",
       "        vertical-align: top;\n",
       "    }\n",
       "\n",
       "    .dataframe thead th {\n",
       "        text-align: right;\n",
       "    }\n",
       "</style>\n",
       "<table border=\"1\" class=\"dataframe\">\n",
       "  <thead>\n",
       "    <tr style=\"text-align: right;\">\n",
       "      <th>Statistics</th>\n",
       "      <th>Assists</th>\n",
       "      <th>Avg Damage Dealt</th>\n",
       "      <th>Boosts</th>\n",
       "      <th>Daily Kills</th>\n",
       "      <th>Damage Dealt</th>\n",
       "      <th>Days</th>\n",
       "      <th>Head Shot Kills</th>\n",
       "      <th>Headshot %</th>\n",
       "      <th>Heals</th>\n",
       "      <th>K/D</th>\n",
       "      <th>...</th>\n",
       "      <th>Swim Distance</th>\n",
       "      <th>Team Kills</th>\n",
       "      <th>Time Survived</th>\n",
       "      <th>Top10s</th>\n",
       "      <th>Vehicle Destroys</th>\n",
       "      <th>Walk Distance</th>\n",
       "      <th>Weapons Acquired</th>\n",
       "      <th>Weekly Kills</th>\n",
       "      <th>Wins</th>\n",
       "      <th>dBNOs</th>\n",
       "    </tr>\n",
       "  </thead>\n",
       "  <tbody>\n",
       "    <tr>\n",
       "      <td>Omni</td>\n",
       "      <td>171</td>\n",
       "      <td>167.63</td>\n",
       "      <td>684</td>\n",
       "      <td>25</td>\n",
       "      <td>82641.97</td>\n",
       "      <td>84</td>\n",
       "      <td>98</td>\n",
       "      <td>18.32%</td>\n",
       "      <td>1274</td>\n",
       "      <td>1.14</td>\n",
       "      <td>...</td>\n",
       "      <td>1088.8712</td>\n",
       "      <td>5</td>\n",
       "      <td>394322.94</td>\n",
       "      <td>214</td>\n",
       "      <td>7</td>\n",
       "      <td>626034.06</td>\n",
       "      <td>2426</td>\n",
       "      <td>41</td>\n",
       "      <td>25</td>\n",
       "      <td>513</td>\n",
       "    </tr>\n",
       "    <tr>\n",
       "      <td>DemonDan</td>\n",
       "      <td>2030</td>\n",
       "      <td>376.63</td>\n",
       "      <td>6315</td>\n",
       "      <td>12</td>\n",
       "      <td>839141.5</td>\n",
       "      <td>298</td>\n",
       "      <td>1505</td>\n",
       "      <td>23.15%</td>\n",
       "      <td>8076</td>\n",
       "      <td>3.61</td>\n",
       "      <td>...</td>\n",
       "      <td>12120.376</td>\n",
       "      <td>50</td>\n",
       "      <td>2166287.2</td>\n",
       "      <td>1283</td>\n",
       "      <td>169</td>\n",
       "      <td>4173720.2</td>\n",
       "      <td>11716</td>\n",
       "      <td>12</td>\n",
       "      <td>427</td>\n",
       "      <td>5226</td>\n",
       "    </tr>\n",
       "    <tr>\n",
       "      <td>frid8y</td>\n",
       "      <td>102</td>\n",
       "      <td>170.94</td>\n",
       "      <td>260</td>\n",
       "      <td>13</td>\n",
       "      <td>47179.11</td>\n",
       "      <td>60</td>\n",
       "      <td>81</td>\n",
       "      <td>27.36%</td>\n",
       "      <td>412</td>\n",
       "      <td>1.11</td>\n",
       "      <td>...</td>\n",
       "      <td>220.14522</td>\n",
       "      <td>1</td>\n",
       "      <td>142766.9</td>\n",
       "      <td>57</td>\n",
       "      <td>3</td>\n",
       "      <td>218007.78</td>\n",
       "      <td>864</td>\n",
       "      <td>17</td>\n",
       "      <td>10</td>\n",
       "      <td>272</td>\n",
       "    </tr>\n",
       "    <tr>\n",
       "      <td>wazzupi</td>\n",
       "      <td>1149</td>\n",
       "      <td>322.19</td>\n",
       "      <td>4305</td>\n",
       "      <td>23</td>\n",
       "      <td>711725.3</td>\n",
       "      <td>178</td>\n",
       "      <td>1189</td>\n",
       "      <td>23.18%</td>\n",
       "      <td>6592</td>\n",
       "      <td>2.53</td>\n",
       "      <td>...</td>\n",
       "      <td>5445.579</td>\n",
       "      <td>44</td>\n",
       "      <td>1547493.8</td>\n",
       "      <td>757</td>\n",
       "      <td>71</td>\n",
       "      <td>2426367.8</td>\n",
       "      <td>9357</td>\n",
       "      <td>99</td>\n",
       "      <td>182</td>\n",
       "      <td>4541</td>\n",
       "    </tr>\n",
       "    <tr>\n",
       "      <td>KryptonicKiller</td>\n",
       "      <td>344</td>\n",
       "      <td>221.54</td>\n",
       "      <td>879</td>\n",
       "      <td>0</td>\n",
       "      <td>197616.64</td>\n",
       "      <td>129</td>\n",
       "      <td>385</td>\n",
       "      <td>28.29%</td>\n",
       "      <td>2019</td>\n",
       "      <td>1.61</td>\n",
       "      <td>...</td>\n",
       "      <td>2227.7903</td>\n",
       "      <td>12</td>\n",
       "      <td>645608.44</td>\n",
       "      <td>362</td>\n",
       "      <td>11</td>\n",
       "      <td>1231500.4</td>\n",
       "      <td>2956</td>\n",
       "      <td>0</td>\n",
       "      <td>48</td>\n",
       "      <td>1353</td>\n",
       "    </tr>\n",
       "  </tbody>\n",
       "</table>\n",
       "<p>5 rows × 32 columns</p>\n",
       "</div>"
      ],
      "text/plain": [
       "Statistics      Assists Avg Damage Dealt Boosts Daily Kills Damage Dealt Days  \\\n",
       "Omni                171           167.63    684          25     82641.97   84   \n",
       "DemonDan           2030           376.63   6315          12     839141.5  298   \n",
       "frid8y              102           170.94    260          13     47179.11   60   \n",
       "wazzupi            1149           322.19   4305          23     711725.3  178   \n",
       "KryptonicKiller     344           221.54    879           0    197616.64  129   \n",
       "\n",
       "Statistics      Head Shot Kills Headshot % Heals   K/D  ... Swim Distance  \\\n",
       "Omni                         98     18.32%  1274  1.14  ...     1088.8712   \n",
       "DemonDan                   1505     23.15%  8076  3.61  ...     12120.376   \n",
       "frid8y                       81     27.36%   412  1.11  ...     220.14522   \n",
       "wazzupi                    1189     23.18%  6592  2.53  ...      5445.579   \n",
       "KryptonicKiller             385     28.29%  2019  1.61  ...     2227.7903   \n",
       "\n",
       "Statistics      Team Kills Time Survived Top10s Vehicle Destroys  \\\n",
       "Omni                     5     394322.94    214                7   \n",
       "DemonDan                50     2166287.2   1283              169   \n",
       "frid8y                   1      142766.9     57                3   \n",
       "wazzupi                 44     1547493.8    757               71   \n",
       "KryptonicKiller         12     645608.44    362               11   \n",
       "\n",
       "Statistics      Walk Distance Weapons Acquired Weekly Kills Wins dBNOs  \n",
       "Omni                626034.06             2426           41   25   513  \n",
       "DemonDan            4173720.2            11716           12  427  5226  \n",
       "frid8y              218007.78              864           17   10   272  \n",
       "wazzupi             2426367.8             9357           99  182  4541  \n",
       "KryptonicKiller     1231500.4             2956            0   48  1353  \n",
       "\n",
       "[5 rows x 32 columns]"
      ]
     },
     "execution_count": 10,
     "metadata": {},
     "output_type": "execute_result"
    }
   ],
   "source": [
    "sfu_red"
   ]
  },
  {
   "cell_type": "code",
   "execution_count": 11,
   "metadata": {},
   "outputs": [],
   "source": [
    "sfu_red.to_excel('sfu_red_tryouts_2020-01-08.xls')"
   ]
  },
  {
   "cell_type": "code",
   "execution_count": 26,
   "metadata": {},
   "outputs": [],
   "source": [
    "KDR = sfu_red.iloc[:,9].astype(float)"
   ]
  },
  {
   "cell_type": "code",
   "execution_count": 14,
   "metadata": {},
   "outputs": [],
   "source": [
    "players = sfu_red.index"
   ]
  },
  {
   "cell_type": "code",
   "execution_count": 35,
   "metadata": {},
   "outputs": [
    {
     "data": {
      "image/png": "[encoded data removed]",
      "text/plain": [
       "<Figure size 432x288 with 1 Axes>"
      ]
     },
     "metadata": {
      "needs_background": "light"
     },
     "output_type": "display_data"
    }
   ],
   "source": [
    "avgdmg = sfu_red.iloc[:,1].astype(float)\n",
    "view_kdr = sns.barplot(x=players, y=KDR, data=sfu_red)"
   ]
  },
  {
   "cell_type": "code",
   "execution_count": 36,
   "metadata": {},
   "outputs": [
    {
     "data": {
      "image/png": "[encoded data removed]",
      "text/plain": [
       "<Figure size 432x288 with 1 Axes>"
      ]
     },
     "metadata": {
      "needs_background": "light"
     },
     "output_type": "display_data"
    }
   ],
   "source": [
    "view_avgdmg = sns.barplot(x=players, y=avgdmg, data=sfu_red)"
   ]
  },
  {
   "cell_type": "code",
   "execution_count": 38,
   "metadata": {},
   "outputs": [
    {
     "data": {
      "image/png": "[encoded data removed]",
      "text/plain": [
       "<Figure size 432x288 with 1 Axes>"
      ]
     },
     "metadata": {
      "needs_background": "light"
     },
     "output_type": "display_data"
    }
   ],
   "source": [
    "rounds = sfu_red.iloc[:,20].astype(float)\n",
    "view_rounds = sns.barplot(x=players, y=rounds, data=sfu_red)"
   ]
  },
  {
   "cell_type": "code",
   "execution_count": 39,
   "metadata": {},
   "outputs": [],
   "source": [
    "wins = sfu_red.iloc[:,30].astype(float)"
   ]
  },
  {
   "cell_type": "code",
   "execution_count": 40,
   "metadata": {},
   "outputs": [],
   "source": [
    "winp = wins / rounds"
   ]
  },
  {
   "cell_type": "code",
   "execution_count": 41,
   "metadata": {},
   "outputs": [
    {
     "data": {
      "text/plain": [
       "Omni               0.050710\n",
       "DemonDan           0.191652\n",
       "frid8y             0.036232\n",
       "wazzupi            0.082390\n",
       "KryptonicKiller    0.053812\n",
       "dtype: float64"
      ]
     },
     "execution_count": 41,
     "metadata": {},
     "output_type": "execute_result"
    }
   ],
   "source": [
    "winp"
   ]
  },
  {
   "cell_type": "code",
   "execution_count": 42,
   "metadata": {},
   "outputs": [
    {
     "data": {
      "image/png": "[encoded data removed]",
      "text/plain": [
       "<Figure size 432x288 with 1 Axes>"
      ]
     },
     "metadata": {
      "needs_background": "light"
     },
     "output_type": "display_data"
    }
   ],
   "source": [
    "totaldmg = sfu_red.iloc[:,4].astype(float)\n",
    "view_totaldmg = sns.barplot(x=players, y=totaldmg, data=sfu_red)"
   ]
  },
  {
   "cell_type": "code",
   "execution_count": null,
   "metadata": {},
   "outputs": [],
   "source": []
  }
 ],
 "metadata": {
  "kernelspec": {
   "display_name": "Python 3",
   "language": "python",
   "name": "python3"
  },
  "language_info": {
   "codemirror_mode": {
    "name": "ipython",
    "version": 3
   },
   "file_extension": ".py",
   "mimetype": "text/x-python",
   "name": "python",
   "nbconvert_exporter": "python",
   "pygments_lexer": "ipython3",
   "version": "3.7.4"
  }
 },
 "nbformat": 4,
 "nbformat_minor": 2
}
